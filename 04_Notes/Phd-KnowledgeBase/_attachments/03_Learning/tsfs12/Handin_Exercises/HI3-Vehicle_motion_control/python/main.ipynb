{
 "cells": [
  {
   "cell_type": "markdown",
   "metadata": {},
   "source": [
    "# TSFS12 Hand-in exercise 3: Path following for autonomous vehicles"
   ]
  },
  {
   "cell_type": "code",
   "execution_count": null,
   "metadata": {},
   "outputs": [],
   "source": [
    "import numpy as np\n",
    "import matplotlib.pyplot as plt\n",
    "from vehiclecontrol import ControllerBase, SingleTrackModel, PurePursuitControllerBase\n",
    "from splinepath import SplinePath\n",
    "from scipy.linalg import solve_discrete_are"
   ]
  },
  {
   "cell_type": "code",
   "execution_count": null,
   "metadata": {},
   "outputs": [],
   "source": [
    "# Run if you want plots in external windows\n",
    "# %matplotlib  "
   ]
  },
  {
   "cell_type": "code",
   "execution_count": null,
   "metadata": {},
   "outputs": [],
   "source": [
    "# Run the ipython magic below to activate automated import of modules. Useful if you write code in external .py files.\n",
    "# %load_ext autoreload\n",
    "# %autoreload 2"
   ]
  },
  {
   "cell_type": "markdown",
   "metadata": {},
   "source": [
    "# Make a simple controller and simulate vehicle"
   ]
  },
  {
   "cell_type": "code",
   "execution_count": null,
   "metadata": {},
   "outputs": [],
   "source": [
    "class MiniController(ControllerBase):\n",
    "    def __init__(self):\n",
    "        super().__init__()\n",
    "    \n",
    "    def u(self, t, w):\n",
    "        a = 0.0\n",
    "        if t < 10:\n",
    "            u = [np.pi / 180 * 10, a]\n",
    "        elif 10 <= t < 20:\n",
    "            u = [-np.pi / 180 * 11, a]\n",
    "        elif 20 <= t < 23:\n",
    "            u = [-np.pi / 180 * 0, a]\n",
    "        elif 23 <= t < 40:\n",
    "            u = [-np.pi / 180 * 15, a]\n",
    "        else:\n",
    "            u = [-np.pi / 180 * 0, a]\n",
    "        return u\n",
    "\n",
    "opts = {'L': 2, \n",
    "        'amax': np.inf,\n",
    "        'amin': -np.inf,\n",
    "        'steer_limit': np.pi / 3}\n",
    "\n",
    "car = SingleTrackModel().set_attributes(opts)\n",
    "car.Ts = 0.1\n",
    "car.controller = MiniController()\n",
    "w0 = [0, 0, 0, 2]\n",
    "z0 = car.simulate(w0, T=40, dt=0.1, t0=0.0)\n",
    "t, w, u = z0\n",
    "M = 10\n",
    "p = w[::M, 0:2]\n",
    "nom_path = SplinePath(p)"
   ]
  },
  {
   "cell_type": "code",
   "execution_count": null,
   "metadata": {},
   "outputs": [],
   "source": [
    "s = np.linspace(0, nom_path.length, 100)\n",
    "\n",
    "_, ax = plt.subplots(num=10, clear=True)\n",
    "ax.plot(nom_path.x(s), nom_path.y(s))\n",
    "ax.plot(p[:, 0], p[:, 1], 'rx')\n",
    "ax.set_xlabel('x [m]')\n",
    "ax.set_ylabel('y [m]')\n",
    "ax.set_title('Path from simple controller')\n",
    "ax.axis('square')\n",
    "\n",
    "fig, ax = plt.subplots(1, 2, num=11, clear=True, layout='constrained')\n",
    "ax[0].plot(t, u[:, 0]*180/np.pi)\n",
    "ax[0].set_xlabel('t [s]')\n",
    "ax[0].set_ylabel('steer [deg]')\n",
    "ax[0].set_title('Steer')\n",
    "\n",
    "ax[1].plot(t, u[:, 1])\n",
    "ax[1].set_xlabel('t [s]')\n",
    "ax[1].set_ylabel('acceleration [m/s^2]')\n",
    "ax[1].set_title('Acceleration')"
   ]
  },
  {
   "cell_type": "markdown",
   "metadata": {},
   "source": [
    "# Pure pursuit controller"
   ]
  },
  {
   "cell_type": "code",
   "execution_count": null,
   "metadata": {},
   "outputs": [],
   "source": [
    "class PurePursuitController(PurePursuitControllerBase):\n",
    "    def __init__(self, l, L, path=None, goal_tol=1., pursuit_point_fig=None):\n",
    "        \"\"\"\n",
    "        Create pure-pursuit controller object\n",
    "        \n",
    "        Input arguments:\n",
    "          l -- Prediction horizon\n",
    "          L -- wheel-base\n",
    "          path -- SplinePath-object with the path to follow\n",
    "          goal_tol -- Goal stopping tolerance (default: 1)\n",
    "          pursuit_point_fig -- Figure object to illustrate pursuit-point selection (default: None)\n",
    "        \"\"\"\n",
    "        super().__init__(pursuit_point_fig)\n",
    "        self.plan = path\n",
    "        self.l = l\n",
    "        self.L = L\n",
    "        self.goal_tol = goal_tol\n",
    "\n",
    "        \n",
    "    def pursuit_point(self, p_car):\n",
    "        \"\"\" Return pure-pursuit given the position of the car.\n",
    "        \n",
    "          Input:\n",
    "            p_car - Car position in global coordinates\n",
    "            \n",
    "          Return:\n",
    "            pursuit point in global coordinates\n",
    "        \"\"\"\n",
    "        # p_car - position of vehicle\n",
    "\n",
    "        path_points = self.plan.path  # Points on the path\n",
    "        l = self.l  # Pure-pursuit look-ahead\n",
    "\n",
    "        # Your code here\n",
    "\n",
    "        # Hint: It is typically not important to find a point at _exactly_ distance l, \n",
    "        #       for example search pure-pursuit point among the points in path_points\n",
    "        #       but don't forget to take into account the approximate pursuit-horizon when\n",
    "        #       computing the steering angle.\n",
    "        p_purepursuit = [0, 0]\n",
    "        return p_purepursuit\n",
    "    \n",
    "    def pure_pursuit_control(self, dp, theta):\n",
    "        \"\"\" Compute pure-pursuit steer angle.\n",
    "        \n",
    "          Input:\n",
    "            dp - Vector from position of car to pursuit point\n",
    "            theta - heading of vehicle\n",
    "          \n",
    "          Output:\n",
    "            return steer angle\n",
    "        \"\"\"\n",
    "\n",
    "        # Your code here to compute new steering angle\n",
    "        delta = 0\n",
    "        return delta\n",
    "\n",
    "    def u(self, t, w):\n",
    "        \"\"\" Compute control action\n",
    "        \n",
    "          Input:\n",
    "            t - current time\n",
    "            w - current state w = (x, y, theta, v)\n",
    "          \n",
    "          Output:\n",
    "            return (delta, acc) where delta is steer angle and acc acceleration\n",
    "        \"\"\"\n",
    "        x, y, theta, v = w\n",
    "        p_car = np.array([x, y])\n",
    "\n",
    "        # Your code here to compute steering angle, use the functions\n",
    "        # self.pursuit_point() and self.pure_pursuit_control() you \n",
    "        # have written above.\n",
    "\n",
    "        delta = 0\n",
    "        acc = 0\n",
    "\n",
    "        self._pursuit_plot(p_car, p_purepursuit)  # Included for animation purposes.\n",
    "        \n",
    "        return np.array([delta, acc])\n",
    "    \n",
    "    def run(self, t, w):\n",
    "        # Function that returns true until goal is reached\n",
    "        p_goal = self.plan.path[-1, :]\n",
    "        p_car = w[0:2]\n",
    "        dp = p_car - p_goal\n",
    "        dist = dp.dot(dp)        \n",
    "        \n",
    "        return dist > self.goal_tol**2"
   ]
  },
  {
   "cell_type": "markdown",
   "metadata": {},
   "source": [
    "## Assertions"
   ]
  },
  {
   "cell_type": "markdown",
   "metadata": {},
   "source": [
    "A few tests on your implementation. Note that passing these tests doesn't imply that your solution is correct but do not submit a solution if your solution doesn't pass these tests. First, test the ```pure_pursuit_control``` function"
   ]
  },
  {
   "cell_type": "code",
   "execution_count": null,
   "metadata": {},
   "outputs": [],
   "source": [
    "pp_controller = PurePursuitController(l=4, L=car.L, path=nom_path, goal_tol=0.25)\n",
    "assert abs(pp_controller.pure_pursuit_control(np.array([1., 1.]), 10 * np.pi / 180) - 1.01840) < 1e-3\n",
    "assert abs(pp_controller.pure_pursuit_control(np.array([1., 1.]), 30 * np.pi / 180) - 0.6319) < 1e-3\n",
    "assert abs(pp_controller.pure_pursuit_control(np.array([1., 1.]), -30 * np.pi / 180) - 1.2199) < 1e-3"
   ]
  },
  {
   "cell_type": "markdown",
   "metadata": {},
   "source": [
    "To ensure that the pursuit-point selection works, run a simulation with pure-pursuit illustration turned on. Requires plotting in external window."
   ]
  },
  {
   "cell_type": "code",
   "execution_count": null,
   "metadata": {},
   "outputs": [],
   "source": [
    "s = np.linspace(0, nom_path.length, 200)\n",
    "fig, ax = plt.subplots(num=99, clear=True)\n",
    "ax.plot(nom_path.x(s), nom_path.y(s), 'b', lw=0.5)\n",
    "ax.plot(nom_path.path[:, 0], nom_path.path[:, 1], 'rx', markersize=3)\n",
    "\n",
    "car = SingleTrackModel()\n",
    "car.controller = PurePursuitController(l=4, L=car.L, path=nom_path, goal_tol=0.25, pursuit_point_fig=fig)\n",
    "\n",
    "w0 = [0, 1, np.pi / 2 * 0.9, 2]\n",
    "z_pp = car.simulate(w0, T=80, dt=0.1, t0=0.0)"
   ]
  },
  {
   "cell_type": "markdown",
   "metadata": {},
   "source": [
    "## Simulate controller"
   ]
  },
  {
   "cell_type": "markdown",
   "metadata": {},
   "source": [
    "Simulate controller without visualization"
   ]
  },
  {
   "cell_type": "code",
   "execution_count": null,
   "metadata": {},
   "outputs": [],
   "source": [
    "car = SingleTrackModel()\n",
    "pp_controller = PurePursuitController(l=4, L=car.L, path=nom_path)\n",
    "car.controller = pp_controller\n",
    "\n",
    "w0 = [0, 1, np.pi / 2 * 0.9, 2]  # Sample starting state\n",
    "z_pp = car.simulate(w0, T=80, dt=0.1, t0=0.0)"
   ]
  },
  {
   "cell_type": "markdown",
   "metadata": {},
   "source": [
    "# State feedback controller based on the linearized path"
   ]
  },
  {
   "cell_type": "markdown",
   "metadata": {},
   "source": [
    "Implement linear and non-linear state feedback control."
   ]
  },
  {
   "cell_type": "code",
   "execution_count": null,
   "metadata": {},
   "outputs": [],
   "source": [
    "class StateFeedbackController(ControllerBase):\n",
    "    def __init__(self, K, L, path=None, goal_tol=1.):\n",
    "        super().__init__()\n",
    "        self.plan = path\n",
    "        self.K = K\n",
    "        self.goal_tol = goal_tol\n",
    "        self.d = []\n",
    "        self.L = L\n",
    "        self.s0 = 0\n",
    "\n",
    "    def heading_error(self, theta, s):\n",
    "        \"\"\"Compute theta error\n",
    "        Inputs\n",
    "            theta - current heading angle\n",
    "            s - projection point on path\n",
    "            \n",
    "        Outputs\n",
    "            theta_e - heading error angle\n",
    "        \"\"\"\n",
    "            \n",
    "        # YOUR CODE HERE\n",
    "        theta_e = 0.0\n",
    "        return theta_e\n",
    "\n",
    "    def u(self, t, w):\n",
    "        x, y, theta, v = w\n",
    "        p_car = w[0:2]\n",
    "\n",
    "        # Compute d and theta_e errors. Use the SplinePath method project\n",
    "        # and the obj.heading_error() function you've written above\n",
    "\n",
    "        # YOUR CODE HERE\n",
    "        d = 0\n",
    "        theta_e = 0\n",
    "\n",
    "        # Compute control signal delta\n",
    "        acc = 0  # Constant speed\n",
    "        delta = 0  # Steering angle\n",
    "\n",
    "        return np.array([delta, acc])\n",
    "    \n",
    "    def run(self, t, w):\n",
    "        p_goal = self.plan.path[-1, :]\n",
    "        p_car = w[0:2]\n",
    "        dp = p_car - p_goal\n",
    "        dist = np.sqrt(dp.dot(dp))\n",
    "        \n",
    "        return dist > self.goal_tol**2\n"
   ]
  }
 ],
 "metadata": {
  "kernelspec": {
   "display_name": "Python 3 (ipykernel)",
   "language": "python",
   "name": "python3"
  },
  "language_info": {
   "codemirror_mode": {
    "name": "ipython",
    "version": 3
   },
   "file_extension": ".py",
   "mimetype": "text/x-python",
   "name": "python",
   "nbconvert_exporter": "python",
   "pygments_lexer": "ipython3",
   "version": "3.11.0"
  }
 },
 "nbformat": 4,
 "nbformat_minor": 4
}
