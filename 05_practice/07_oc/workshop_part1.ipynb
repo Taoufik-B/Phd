{
 "cells": [
  {
   "cell_type": "code",
   "execution_count": 10,
   "metadata": {},
   "outputs": [],
   "source": [
    "from casadi import *\n",
    "from matplotlib.pyplot import plot, show\n",
    "\n",
    "x = SX.sym('w') # Decision variable\n",
    "obj = x**2-6*x+13 # Calcul of the objective\n",
    "\n",
    "g = [] # optimization constraints : empty\n",
    "P = [] # optimization problem parameters : empty\n",
    "\n",
    "OPT_variables = x # single decision variable\n",
    "nlp_prob = {'f':obj, 'x':OPT_variables, 'g':g, 'p':P}\n",
    "\n",
    "opts = {\n",
    "    'ipopt': # interior point optimizer\n",
    "    {\n",
    "        'max_iter':100,\n",
    "        'print_level':0,\n",
    "        'acceptable_tol':1e-0,\n",
    "        'acceptable_obj_change_tol':1e-6\n",
    "    },\n",
    "    'print_time':0,\n",
    "}\n",
    "solver = nlpsol('solver','ipopt', nlp_prob, opts)"
   ]
  },
  {
   "cell_type": "code",
   "execution_count": 15,
   "metadata": {},
   "outputs": [],
   "source": [
    "args = {\n",
    "    'lbx' : -inf,\n",
    "    'ubx' : inf,\n",
    "    'lbg' : -inf,\n",
    "    'ubg' : inf,\n",
    "    'p' : [],\n",
    "    'x0' : -0.5 # initialization of the optimization variable\n",
    "}\n",
    "\n",
    "sol = solver(**args)\n",
    "\n",
    "x_sol = sol['x']\n",
    "min_value = sol['f']"
   ]
  },
  {
   "cell_type": "code",
   "execution_count": 16,
   "metadata": {},
   "outputs": [
    {
     "name": "stdout",
     "output_type": "stream",
     "text": [
      "3\n",
      "4\n"
     ]
    }
   ],
   "source": [
    "print(x_sol)\n",
    "print(min_value)"
   ]
  }
 ],
 "metadata": {
  "kernelspec": {
   "display_name": "py37",
   "language": "python",
   "name": "python3"
  },
  "language_info": {
   "codemirror_mode": {
    "name": "ipython",
    "version": 3
   },
   "file_extension": ".py",
   "mimetype": "text/x-python",
   "name": "python",
   "nbconvert_exporter": "python",
   "pygments_lexer": "ipython3",
   "version": "3.7.13"
  }
 },
 "nbformat": 4,
 "nbformat_minor": 2
}
