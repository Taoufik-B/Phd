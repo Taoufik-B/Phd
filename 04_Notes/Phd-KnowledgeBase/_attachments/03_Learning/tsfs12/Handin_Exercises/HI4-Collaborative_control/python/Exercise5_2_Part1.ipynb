{
 "cells": [
  {
   "cell_type": "markdown",
   "metadata": {},
   "source": [
    "# TSFS12 Hand-in exercise 4: Collaborative control"
   ]
  },
  {
   "cell_type": "markdown",
   "metadata": {},
   "source": [
    "Initial imports"
   ]
  },
  {
   "cell_type": "code",
   "execution_count": null,
   "metadata": {},
   "outputs": [],
   "source": [
    "import numpy as np\n",
    "from scipy.integrate import odeint\n",
    "import matplotlib.pyplot as plt\n",
    "import matplotlib.animation as animation\n",
    "from collab_functions import multi_agent_ode, CreateAgent"
   ]
  },
  {
   "cell_type": "markdown",
   "metadata": {},
   "source": [
    "Activate matplotlib for notebook. Plots must be in external windows due to animations."
   ]
  },
  {
   "cell_type": "code",
   "execution_count": null,
   "metadata": {},
   "outputs": [],
   "source": [
    "%matplotlib"
   ]
  },
  {
   "cell_type": "markdown",
   "metadata": {},
   "source": [
    "# Define agent dynamics, control, and measurement functions"
   ]
  },
  {
   "cell_type": "code",
   "execution_count": null,
   "metadata": {},
   "outputs": [],
   "source": [
    "agent_idx = [range(4*i, 4*(i+1)) for i in range(0, 8)]\n",
    "\n",
    "measurement_graph = [\n",
    "    agent_idx[0],  # Agent 1\n",
    "    np.dstack((np.array([agent_idx[1], agent_idx[0]]), # Agent 2\n",
    "               np.array([agent_idx[1], agent_idx[2]]))),\n",
    "    np.dstack((np.array([agent_idx[2], agent_idx[1]]), # Agent 3\n",
    "               np.array([agent_idx[2], agent_idx[3]]))),\n",
    "    np.dstack((np.array([agent_idx[3], agent_idx[2]]), # Agent 4\n",
    "               np.array([agent_idx[3], agent_idx[4]]))),\n",
    "    np.dstack((np.array([agent_idx[4], agent_idx[3]]), # Agent 5\n",
    "               np.array([agent_idx[4], agent_idx[5]]))),\n",
    "    np.dstack((np.array([agent_idx[5], agent_idx[4]]), # Agent 6\n",
    "               np.array([agent_idx[5], agent_idx[6]]))),\n",
    "    np.dstack((np.array([agent_idx[6], agent_idx[5]]), # Agent 7\n",
    "               np.array([agent_idx[6], agent_idx[7]]))),\n",
    "    np.dstack((np.array([agent_idx[7], agent_idx[6]]),)) # Agent 8\n",
    "]\n",
    "\n",
    "formation_measurement_index = [{'idx': mi} for mi in measurement_graph]\n",
    "\n",
    "formation_references = [lambda t: np.array([0, 4, 0, 0]).reshape(4, -1), \n",
    "                        lambda t: np.array([[0, 0], [1, -1], [0, 0], [0, 0]]),\n",
    "                        lambda t: np.array([[0, 0], [1, -1], [0, 0], [0, 0]]),\n",
    "                        lambda t: np.array([[0, 0], [1, -1], [0, 0], [0, 0]]),\n",
    "                        lambda t: np.array([[0, 0], [1, -1], [0, 0], [0, 0]]),\n",
    "                        lambda t: np.array([[0, 0], [1, -1], [0, 0], [0, 0]]),\n",
    "                        lambda t: np.array([[0, 0], [1, -1], [0, 0], [0, 0]]),\n",
    "                        lambda t: np.array([0, 1, 0, 0]).reshape(4, -1)]"
   ]
  },
  {
   "cell_type": "code",
   "execution_count": null,
   "metadata": {},
   "outputs": [],
   "source": [
    "# Firstly create your state, measurememt, and control functions, and assign them correctly to the corresponding agents. Note you have two types of agents here.\n",
    "\n",
    "# Then the implementation is similar to what you did in Exercise 5.1"
   ]
  }
 ],
 "metadata": {
  "kernelspec": {
   "display_name": "Python 3 (ipykernel)",
   "language": "python",
   "name": "python3"
  },
  "language_info": {
   "codemirror_mode": {
    "name": "ipython",
    "version": 3
   },
   "file_extension": ".py",
   "mimetype": "text/x-python",
   "name": "python",
   "nbconvert_exporter": "python",
   "pygments_lexer": "ipython3",
   "version": "3.10.12"
  }
 },
 "nbformat": 4,
 "nbformat_minor": 4
}
