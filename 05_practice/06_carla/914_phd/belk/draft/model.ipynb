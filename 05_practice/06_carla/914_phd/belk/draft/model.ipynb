{
 "cells": [
  {
   "cell_type": "markdown",
   "metadata": {},
   "source": [
    "## Creating the kinematic and dynamic model of the bicycle model\n",
    "\n",
    "- Kinematic\n",
    "$$\n",
    "\\frac{d}{dt}\n",
    "\\begin{pmatrix}\n",
    "x \\\\\n",
    "y \\\\\n",
    "\\theta \\\\\n",
    "v\n",
    "\\end{pmatrix} =\n",
    "\\begin{pmatrix}\n",
    "v\\cos{\\theta} \\\\\n",
    "v\\sin{\\theta} \\\\\n",
    "\\frac{v\\tan{\\delta}}{L} \\\\\n",
    "a\n",
    "\\end{pmatrix}\n",
    "$$\n",
    "\n",
    "where $v$ is the vehicle's velocity in the x-axis, $\\theta$ is the vehicle's yaw, $\\delta$ is the steering angle, $L$ is the vehicle's wheelbase, $a$ is the acceleration/throttle, $f$ is friction in the x-axis.\n",
    "\n",
    "```yaml\n",
    "At initialisation\n",
    ":param wheelbase:           (float) vehicle's wheelbase [m]\n",
    ":param max_steer:           (float) vehicle's steering limits [rad]\n",
    ":param delta_time:          (float) discrete time period [s]\n",
    "\n",
    "At every time step  \n",
    ":param x:                   (float) vehicle's x-coordinate [m]\n",
    ":param y:                   (float) vehicle's y-coordinate [m]\n",
    ":param yaw:                 (float) vehicle's heading [rad]\n",
    ":param velocity:            (float) vehicle's velocity in the x-axis [m/s]\n",
    ":param acceleration:        (float) vehicle's accleration [m/s^2]\n",
    ":param steering_angle:      (float) vehicle's steering angle [rad]\n",
    "\n",
    ":return x:                  (float) vehicle's x-coordinate [m]\n",
    ":return y:                  (float) vehicle's y-coordinate [m]\n",
    ":return yaw:                (float) vehicle's heading [rad]\n",
    ":return velocity:           (float) vehicle's velocity in the x-axis [m/s]\n",
    ":return steering_angle:     (float) vehicle's steering angle [rad]\n",
    ":return angular_velocity:   (float) vehicle's angular velocity [rad/s]\n",
    "```\n",
    "\n",
    "\n",
    "[ ] Dynamics\n",
    "\n",
    "- Citing references"
   ]
  }
 ],
 "metadata": {
  "language_info": {
   "name": "python"
  },
  "orig_nbformat": 4
 },
 "nbformat": 4,
 "nbformat_minor": 2
}
