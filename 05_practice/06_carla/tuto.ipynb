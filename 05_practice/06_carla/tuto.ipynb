{
 "cells": [
  {
   "cell_type": "code",
   "execution_count": null,
   "metadata": {},
   "outputs": [],
   "source": [
    "#!/usr/bin/env python\n",
    "\n",
    "# Copyright (c) 2019 Computer Vision Center (CVC) at the Universitat Autonoma de\n",
    "# Barcelona (UAB).\n",
    "#\n",
    "# This work is licensed under the terms of the MIT license.\n",
    "# For a copy, see <https://opensource.org/licenses/MIT>.\n",
    "\n",
    "import glob\n",
    "import os\n",
    "import sys\n",
    "\n",
    "try:\n",
    "    sys.path.append(glob.glob('libs/dist/carla-*%d.%d-%s.egg' % (\n",
    "        sys.version_info.major,\n",
    "        sys.version_info.minor,\n",
    "        'win-amd64' if os.name == 'nt' else 'linux-x86_64'))[0])\n",
    "    import carla\n",
    "    \n",
    "except IndexError:\n",
    "    pass\n",
    "\n",
    "\n",
    "import random\n",
    "import time\n",
    "import logging\n",
    "\n",
    "import numpy\n",
    "import matplotlib\n"
   ]
  },
  {
   "cell_type": "code",
   "execution_count": null,
   "metadata": {},
   "outputs": [],
   "source": [
    "client = carla.Client('localhost', 2000)\n",
    "client.set_timeout(5.0)"
   ]
  },
  {
   "cell_type": "code",
   "execution_count": null,
   "metadata": {},
   "outputs": [],
   "source": [
    "# Once we have a client we can retrieve the world that is currently\n",
    "# running.\n",
    "world = client.get_world()\n",
    "\n",
    "# The world contains the list blueprints that we can use for adding new\n",
    "# actors into the simulation.\n",
    "blueprint_library = world.get_blueprint_library()\n",
    "vehicle_blueprints = blueprint_library.filter('*vehicle*')\n",
    "print(vehicle_blueprints)"
   ]
  },
  {
   "cell_type": "markdown",
   "metadata": {},
   "source": [
    "Working on the spectator view and try to attach it to a vehicle \n",
    "but before, lets spawn a vehicle and let it be controlled by an autopilot"
   ]
  },
  {
   "cell_type": "code",
   "execution_count": null,
   "metadata": {},
   "outputs": [],
   "source": [
    "settings = world.get_settings()\n",
    "settings.no_rendering_mode = True\n",
    "world.apply_settings(settings)"
   ]
  },
  {
   "cell_type": "code",
   "execution_count": null,
   "metadata": {},
   "outputs": [],
   "source": [
    "# --------------\n",
    "# Spawn ego vehicle\n",
    "# --------------\n",
    "ego_bp = world.get_blueprint_library().find('vehicle.tesla.model3')\n",
    "ego_bp.set_attribute('role_name','ego')\n",
    "print('\\nEgo role_name is set')\n",
    "ego_color = random.choice(ego_bp.get_attribute('color').recommended_values)\n",
    "ego_bp.set_attribute('color',ego_color)\n",
    "print('\\nEgo color is set')\n",
    "\n",
    "spawn_points = world.get_map().get_spawn_points()\n",
    "number_of_spawn_points = len(spawn_points)\n",
    "\n",
    "if 0 < number_of_spawn_points:\n",
    "    random.shuffle(spawn_points)\n",
    "    ego_transform = spawn_points[0]\n",
    "    ego_vehicle = world.spawn_actor(ego_bp,ego_transform)\n",
    "    print('\\nEgo is spawned')\n",
    "else: \n",
    "    logging.warning('Could not found any spawn points')"
   ]
  },
  {
   "cell_type": "code",
   "execution_count": null,
   "metadata": {},
   "outputs": [],
   "source": [
    "ego_vehicle.set_autopilot(True)"
   ]
  },
  {
   "cell_type": "code",
   "execution_count": null,
   "metadata": {},
   "outputs": [],
   "source": [
    "# --------------\n",
    "# Spectator on ego position\n",
    "# --------------\n",
    "spectator = world.get_spectator()\n",
    "world_snapshot = world.wait_for_tick() \n",
    "spectator.set_transform(ego_vehicle.get_transform())"
   ]
  },
  {
   "cell_type": "code",
   "execution_count": null,
   "metadata": {},
   "outputs": [],
   "source": [
    "while True:\n",
    "    print(ego_vehicle.get_location())"
   ]
  }
 ],
 "metadata": {
  "kernelspec": {
   "display_name": "py37_911",
   "language": "python",
   "name": "python3"
  },
  "language_info": {
   "codemirror_mode": {
    "name": "ipython",
    "version": 3
   },
   "file_extension": ".py",
   "mimetype": "text/x-python",
   "name": "python",
   "nbconvert_exporter": "python",
   "pygments_lexer": "ipython3",
   "version": "3.7.16"
  },
  "orig_nbformat": 4
 },
 "nbformat": 4,
 "nbformat_minor": 2
}
