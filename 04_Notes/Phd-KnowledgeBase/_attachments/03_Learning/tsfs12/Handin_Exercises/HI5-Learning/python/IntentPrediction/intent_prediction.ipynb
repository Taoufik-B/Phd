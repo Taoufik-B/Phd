{
 "cells": [
  {
   "cell_type": "markdown",
   "metadata": {},
   "source": [
    "# TSFS12 Hand-in exercise 5, solution: Learning predictive driver models with neural networks"
   ]
  },
  {
   "cell_type": "markdown",
   "metadata": {},
   "source": [
    "This exercise is based on data from the I-80 data set from the U.S. Department of Transportation. The data can be downloaded from the course directory in \n",
    "Lisam, and are available in the directory /courses/tsfs12/i80_data in the student labs at campus. \n",
    "\n",
    "I-80 data set citation: U.S. Department of Transportation Federal Highway Administration. (2016). Next Generation Simulation (NGSIM) Vehicle\n",
    "Trajectories and Supporting Data. [Dataset]. Provided by ITS DataHub through Data.transportation.gov. Accessed 2020-09-29 from http://doi.org/10.21949/1504477. More details about the data set are \n",
    "available through this link.  "
   ]
  },
  {
   "cell_type": "markdown",
   "metadata": {},
   "source": [
    "Make initial imports. The exercise requires python packages numpy, torch, scikit-learn, and pandas."
   ]
  },
  {
   "cell_type": "code",
   "execution_count": null,
   "metadata": {},
   "outputs": [],
   "source": [
    "import numpy as np\n",
    "from torch.utils.data import TensorDataset, DataLoader\n",
    "from torch import nn, tensor\n",
    "import torch\n",
    "from torchinfo import summary\n",
    "import matplotlib.pyplot as plt\n",
    "from sklearn.metrics import confusion_matrix, precision_score, recall_score, accuracy_score\n",
    "from seaborn import despine\n",
    "from i80_utility import plot_road, lane_bounds, plot_prediction, load_i80_features\n",
    "from i80_utility import load_i80_trajectories, get_trajectory_from_datapoint"
   ]
  },
  {
   "cell_type": "code",
   "execution_count": null,
   "metadata": {},
   "outputs": [],
   "source": [
    "%matplotlib inline"
   ]
  },
  {
   "cell_type": "markdown",
   "metadata": {},
   "source": [
    "# Introduction\n",
    "The raw data used in the exercise is available from https://www.its.dot.gov/data/, US Department of Transportation, Intelligent Transport Systems datahub. More specifically, we will use the I80 data from the NGSIM program. The data was collected through a network of synchronized digital video cameras and then transcribed to vehicle trajectory data from the video. This vehicle trajectory data provided the precise location of each vehicle within the study area in 10 Hz, resulting in detailed lane positions and locations relative to other vehicles.\n",
    "\n",
    "https://data.transportation.gov/Automobiles/Next-Generation-Simulation-NGSIM-Vehicle-Trajector/8ect-6jqj\n",
    "\n",
    "The raw data is described in the file ```I-80_Metadata_Documentation.pdf```. There are predefined functions for reading the raw data (and units are converted to SI-units).\n",
    "\n",
    "From the raw trajectory data, we have designed features to be able to build predictive models. The data needed for this exercise can be downloaded from Lisam, thus you _do not_ have to download anything outside of Lisam."
   ]
  },
  {
   "cell_type": "markdown",
   "metadata": {},
   "source": [
    "First, define where the data resides, on your computer or if you are working in the student labs. The variable ```i80_data_dir``` points to the directory where the data directory ```i80_data``` is located."
   ]
  },
  {
   "cell_type": "code",
   "execution_count": null,
   "metadata": {},
   "outputs": [],
   "source": [
    "i80_data_dir = './'  # data downloaded in the current directory\n",
    "# i80_data_dir = '/courses/tsfs12/'  # student labs"
   ]
  },
  {
   "cell_type": "markdown",
   "metadata": {},
   "source": [
    "Create a random number generator (with a specified seed so that results are reproducible)"
   ]
  },
  {
   "cell_type": "code",
   "execution_count": null,
   "metadata": {},
   "outputs": [],
   "source": [
    "rg = np.random.default_rng(seed=1891)"
   ]
  },
  {
   "cell_type": "markdown",
   "metadata": {},
   "source": [
    "# Load I-80 feature data"
   ]
  },
  {
   "cell_type": "markdown",
   "metadata": {},
   "source": [
    "Based on the I80 data, we have designed features to be able to build predictive models. Each datapointhas 41 features. The feature data consists of 95591 datapoints and consists of three variables:\n",
    "* x - The feature data, a (95591 x 41)-matrix.\n",
    "* y - True label for each datapoint.\n",
    "* info - Information which trajectory, dataset, and time-stamp the datapoint corresponds to.\n",
    "\n",
    "The feature data is described in more detail in the handin documentation and the file ```features.md```."
   ]
  },
  {
   "cell_type": "code",
   "execution_count": null,
   "metadata": {},
   "outputs": [],
   "source": [
    "x, y, info = load_i80_features(i80_data_dir)\n",
    "x = tensor(x).float()\n",
    "y = tensor(y).long()\n",
    "print(f\"Read {x.shape[0]} datapoints with {x.shape[1]} features.\")"
   ]
  },
  {
   "cell_type": "markdown",
   "metadata": {},
   "source": [
    "Show how many datapoints correspond to switching lane left, right, and staying in the same lane."
   ]
  },
  {
   "cell_type": "code",
   "execution_count": null,
   "metadata": {},
   "outputs": [],
   "source": [
    "print(f\"Left: {(y == 0).sum()}, Straight: {(y == 1).sum()}, Right: {(y == 2).sum()}\")"
   ]
  },
  {
   "cell_type": "markdown",
   "metadata": {},
   "source": [
    "# Factor out validation data set"
   ]
  },
  {
   "cell_type": "markdown",
   "metadata": {},
   "source": [
    "The next step is to create a validation data-set and carefully ensure that there is no leakage of validation datapoints into the training dataset. First, collect indices for all datapoints corresponding to each class."
   ]
  },
  {
   "cell_type": "code",
   "execution_count": null,
   "metadata": {},
   "outputs": [],
   "source": [
    "left_class_idx = (y == 0).nonzero()\n",
    "straight_class_idx = (y == 1).nonzero()\n",
    "right_class_idx = (y == 2).nonzero()"
   ]
  },
  {
   "cell_type": "markdown",
   "metadata": {},
   "source": [
    "By random, select M datapoints from each class to be included in the dataset. The validation dataset will then be balanced. Due to the large imbalance, we can't include too many datapoints from each class, then very few would be available for training. Experiment with this number M."
   ]
  },
  {
   "cell_type": "code",
   "execution_count": null,
   "metadata": {},
   "outputs": [],
   "source": [
    "M = 50\n",
    "val_class_idx = (rg.choice(left_class_idx, M, replace=False),\n",
    "                 rg.choice(straight_class_idx, M, replace=False),\n",
    "                 rg.choice(right_class_idx, M, replace=False))\n",
    "val_index = np.concatenate(val_class_idx).squeeze()"
   ]
  },
  {
   "cell_type": "markdown",
   "metadata": {},
   "source": [
    "# Balance training data by resampling"
   ]
  },
  {
   "cell_type": "markdown",
   "metadata": {},
   "source": [
    "Due to the severe class imbalance in data, some measure need to be taken. Here, data is balanced by oversampling the underrepresented classes to weigh those datapoints higher. The code below samples M datapoints, _with replacement_, from each class (excluding the validation data). Experiment also with the number M."
   ]
  },
  {
   "cell_type": "code",
   "execution_count": null,
   "metadata": {},
   "outputs": [],
   "source": [
    "M = 1500  # Number of samples from each class\n",
    "train_class_idx = (rg.choice(np.setdiff1d(left_class_idx, val_class_idx[0]), M),\n",
    "                   rg.choice(np.setdiff1d(straight_class_idx, val_class_idx[1]), M),\n",
    "                   rg.choice(np.setdiff1d(right_class_idx, val_class_idx[2]), M))\n",
    "\n",
    "train_index = np.concatenate(train_class_idx).squeeze()"
   ]
  },
  {
   "cell_type": "markdown",
   "metadata": {},
   "source": [
    "Collect data points and lables for traing and validation in tensors ```x_train```, ```y_train```, ```x_val```, ```y_val```."
   ]
  },
  {
   "cell_type": "code",
   "execution_count": null,
   "metadata": {},
   "outputs": [],
   "source": [
    "x_train = x[train_index]\n",
    "y_train = y[train_index]\n",
    "x_val = x[val_index]\n",
    "y_val = y[val_index]"
   ]
  },
  {
   "cell_type": "markdown",
   "metadata": {},
   "source": [
    "# Normalize data"
   ]
  },
  {
   "cell_type": "markdown",
   "metadata": {},
   "source": [
    "Last step before building models, normalize data so that each feature has mean 0 and standard deviation 1."
   ]
  },
  {
   "cell_type": "code",
   "execution_count": null,
   "metadata": {},
   "outputs": [],
   "source": [
    "mu = x_train.mean(dim=0)\n",
    "std = x_train.std(dim=0)\n",
    "\n",
    "x_val = (x_val - mu) / std\n",
    "x_train = (x_train - mu) / std"
   ]
  },
  {
   "cell_type": "markdown",
   "metadata": {},
   "source": [
    "Do not forget to normalize data also when doing predictions."
   ]
  },
  {
   "cell_type": "markdown",
   "metadata": {},
   "source": [
    "# Define a training loop"
   ]
  },
  {
   "cell_type": "markdown",
   "metadata": {},
   "source": [
    "Here is a simple training loop. Study the code, it is fully implemented but it is expected that you understand how it works (not implementation details)."
   ]
  },
  {
   "cell_type": "code",
   "execution_count": null,
   "metadata": {},
   "outputs": [],
   "source": [
    "def train_model(model, epochs, train_data, val_data):\n",
    "    \"\"\"A simple training loop\n",
    "    \n",
    "    arguments:\n",
    "        model -- The model to train; must have properties loss_fun and optimizer\n",
    "        epochs -- Number of epochs to train\n",
    "        train_data -- Dataloader for training data\n",
    "        val_data -- Dataloader for test data\n",
    "    \n",
    "    returns:\n",
    "        history -- dictionary with keys  {train_loss, train_acc, val_loss, val_acc}\n",
    "    \"\"\"\n",
    "    history = {\n",
    "        \"train_loss\": [],\n",
    "        \"train_acc\": [],\n",
    "        \"val_loss\": [],\n",
    "        \"val_acc\": []}\n",
    "\n",
    "    def train_loop():\n",
    "        size = len(train_data.dataset)\n",
    "        num_batches = len(train_data)\n",
    "        train_loss, train_acc = 0., 0.\n",
    "        for xi, yi in train_data:\n",
    "            pred = model(xi)\n",
    "            loss = model.loss_fun(pred, yi)\n",
    "\n",
    "            model.optimizer.zero_grad()\n",
    "            loss.backward()\n",
    "            model.optimizer.step()\n",
    "            train_loss += loss.item() / num_batches\n",
    "            train_acc += (pred.argmax(1) == yi).sum().item()\n",
    "        train_acc /= size\n",
    "        \n",
    "        return train_loss, train_acc\n",
    "    \n",
    "    \n",
    "    def val_loop():\n",
    "        size = len(val_data.dataset)\n",
    "        num_batches = len(val_data)\n",
    "        val_loss, val_acc = 0, 0\n",
    "        model.eval()\n",
    "        with torch.no_grad():\n",
    "            for xi, yi in val_data:\n",
    "                pred = model(xi)\n",
    "                val_loss += model.loss_fun(pred, yi).item()\n",
    "                val_acc += (pred.argmax(1) == yi).sum().item()\n",
    "        model.train()\n",
    "        val_loss /= num_batches\n",
    "        val_acc /= size\n",
    "        \n",
    "        return val_loss, val_acc\n",
    "    \n",
    "    for k in range(epochs):\n",
    "        print(f\"Epoch {k + 1:>2}/{epochs}: \", end=\"\")\n",
    "\n",
    "        # Training loop\n",
    "        train_loss, train_acc = train_loop()\n",
    "        history[\"train_loss\"].append(train_loss)\n",
    "        history[\"train_acc\"].append(train_acc)\n",
    "\n",
    "        # Validation loop\n",
    "        val_loss, val_acc = val_loop()\n",
    "        history[\"val_loss\"].append(val_loss)\n",
    "        history[\"val_acc\"].append(val_acc)\n",
    "\n",
    "        print(f\"loss: {train_loss:>.4f} - accuracy: {train_acc:>0.3f} - val_loss {val_loss:>.4f} - val_accuracy: {val_acc:>0.3f}\")\n",
    "\n",
    "    return history"
   ]
  },
  {
   "cell_type": "markdown",
   "metadata": {},
   "source": [
    "# Define the neural network model for intent prediction"
   ]
  },
  {
   "cell_type": "markdown",
   "metadata": {},
   "source": [
    "Define the intent prediction model class. Experiment by adding layers in the arguments to ```nn.Sequential()``` below.  Basic layers, that are sufficient here, are \n",
    "* [```linear```](https://pytorch.org/docs/stable/generated/torch.nn.Linear.html#torch.nn.Linear) (clickable-link)\n",
    "* [```relu```](https://pytorch.org/docs/stable/generated/torch.nn.ReLU.html#torch.nn.ReLU)\n",
    "* [```softmax```](https://pytorch.org/docs/stable/generated/torch.nn.Softmax.html#torch.nn.Softmax)\n",
    "\n",
    " Below is a very small, functioning, network. You are encouraged to experiment with layers and regularization, for example [```dropout```](https://pytorch.org/docs/stable/generated/torch.nn.Dropout.html#torch.nn.Dropout). Experiment and see what happens with training and validation performance. Imporant that input dimension is 41 (number of features) and that the output dimension 3 (number of classes) with a ```Softmax```-layer."
   ]
  },
  {
   "cell_type": "code",
   "execution_count": null,
   "metadata": {},
   "outputs": [],
   "source": [
    "class IntentPredictionModel(nn.Module):\n",
    "    def __init__(self, lr=1e-3):\n",
    "        \"\"\"Prediction model\n",
    "        \n",
    "        arguments:\n",
    "        lr -- Learning rate for optimizer (default: 1e-3)\n",
    "        \"\"\"\n",
    "        super().__init__()\n",
    "        self.network = nn.Sequential(\n",
    "            nn.Linear(41, 3),\n",
    "            nn.ReLU(),\n",
    "            nn.Linear(3, 3),\n",
    "            nn.Softmax(1)\n",
    "        )\n",
    "        \n",
    "        self.loss_fun = nn.CrossEntropyLoss()\n",
    "        self.optimizer = torch.optim.Adam(params=self.network.parameters(), lr=lr, weight_decay=0)\n",
    "        \n",
    "\n",
    "    def forward(self, x):\n",
    "        return self.network(x)\n",
    "\n",
    "model = IntentPredictionModel(lr=1e-3)\n",
    "summary(model)"
   ]
  },
  {
   "cell_type": "code",
   "execution_count": null,
   "metadata": {},
   "outputs": [],
   "source": [
    "dl_train = DataLoader(TensorDataset(x_train, y_train), batch_size=32, shuffle=True)\n",
    "dl_val = DataLoader(TensorDataset(x_val, y_val), batch_size=32, shuffle=True)\n",
    "\n",
    "h = train_model(model, 30, dl_train, dl_val)"
   ]
  },
  {
   "cell_type": "code",
   "execution_count": null,
   "metadata": {},
   "outputs": [],
   "source": [
    "_, ax = plt.subplots(1, 2, num=10, clear=True, figsize=(15, 6))\n",
    "ax[0].plot(h[\"train_loss\"], 'b', label='train')\n",
    "ax[0].plot(h[\"val_loss\"], 'r', label='validation')\n",
    "ax[0].legend()\n",
    "ax[0].set_title(\"Loss\")\n",
    "despine()\n",
    "\n",
    "ax[1].plot(h[\"train_acc\"], 'b', label='train')\n",
    "ax[1].plot(h[\"val_acc\"], 'r', label='validation')\n",
    "ax[1].legend()\n",
    "ax[1].set_title(\"Accuracy\")\n",
    "despine()"
   ]
  },
  {
   "cell_type": "markdown",
   "metadata": {},
   "source": [
    "Put model in evaluation mode, i.e., deactivate any randomness in the model, e.g., drop-out layers."
   ]
  },
  {
   "cell_type": "code",
   "execution_count": null,
   "metadata": {},
   "outputs": [],
   "source": [
    "_ = model.eval()"
   ]
  },
  {
   "cell_type": "markdown",
   "metadata": {},
   "source": [
    "Predict 10 random samples (remember {0, 1, 2} = {change left, lane keep, change right})"
   ]
  },
  {
   "cell_type": "code",
   "execution_count": null,
   "metadata": {},
   "outputs": [],
   "source": [
    "M = 10\n",
    "for _ in range(10):\n",
    "    xi_index = rg.choice(val_index, 1)\n",
    "    yhat = model((x[xi_index] - mu) / std).data.numpy()[0]\n",
    "    with np.printoptions(precision=4):\n",
    "        print(f\"Prediction: {yhat} -> {np.argmax(yhat)} (true: {int(y[xi_index][0])})\")"
   ]
  },
  {
   "cell_type": "markdown",
   "metadata": {},
   "source": [
    "Compute the confusion matrix for training and validation data using the imported ```confusion_matrix``` function. Function ```np.argmax``` can also be useful."
   ]
  },
  {
   "cell_type": "code",
   "execution_count": null,
   "metadata": {},
   "outputs": [],
   "source": [
    "_, pred_train = model(x_train).max(1)  # Make predictions on alll training data\n",
    "C = None  # YOUR CODE HERE -- confusion_matrix(arguments)\n",
    "print(C)"
   ]
  },
  {
   "cell_type": "markdown",
   "metadata": {},
   "source": [
    "Compute accuracy, precision and recall using the computed confusion matrix."
   ]
  },
  {
   "cell_type": "code",
   "execution_count": null,
   "metadata": {},
   "outputs": [],
   "source": [
    "# YOUR CODE HERE"
   ]
  },
  {
   "cell_type": "markdown",
   "metadata": {},
   "source": [
    "# Evaluate on validation trajectories"
   ]
  },
  {
   "cell_type": "markdown",
   "metadata": {},
   "source": [
    "Below is a simple visualization of model predictions given the vehicle trajectories. First, load all trajectories from the I-80 dataset."
   ]
  },
  {
   "cell_type": "markdown",
   "metadata": {},
   "source": [
    "## Load and explore trajectories"
   ]
  },
  {
   "cell_type": "code",
   "execution_count": null,
   "metadata": {},
   "outputs": [],
   "source": [
    "trajectories = load_i80_trajectories(i80_data_dir)\n",
    "\n",
    "print(f\"0400pm-0415pm: {len(trajectories[0])} trajectories.\")\n",
    "print(f\"0500pm-0515pm: {len(trajectories[1])} trajectories.\")\n",
    "print(f\"0515pm-0530pm: {len(trajectories[2])} trajectories.\")"
   ]
  },
  {
   "cell_type": "markdown",
   "metadata": {},
   "source": [
    "The trajectories are stores as pandas dataframes. For example, the first samples of the first trajectory in the first data set (0400pm-0415pm) has the following data"
   ]
  },
  {
   "cell_type": "code",
   "execution_count": null,
   "metadata": {},
   "outputs": [],
   "source": [
    "trajectories[0][0].head()"
   ]
  },
  {
   "cell_type": "markdown",
   "metadata": {},
   "source": [
    "Plot N=100 random trajectories from the first data-set."
   ]
  },
  {
   "cell_type": "code",
   "execution_count": null,
   "metadata": {},
   "outputs": [],
   "source": [
    "N = 100\n",
    "colors = plt.rcParams['axes.prop_cycle'].by_key()['color']\n",
    "_, ax = plt.subplots(num=10, clear=True, figsize=(10, 10))\n",
    "for trajectory_idx in rg.choice(range(len(trajectories[0])), N):\n",
    "    trajectory = trajectories[0][trajectory_idx]\n",
    "    ax.plot(trajectory.Local_X, trajectory.Local_Y, color=colors[trajectory.Lane_ID.iloc[0]], lw=0.5)\n",
    "plot_road()\n",
    "ax.set_xlabel('x [m]')\n",
    "ax.set_ylabel('y [m]')\n",
    "despine()"
   ]
  },
  {
   "cell_type": "markdown",
   "metadata": {},
   "source": [
    "## Visualize model predictions"
   ]
  },
  {
   "cell_type": "markdown",
   "metadata": {},
   "source": [
    "Plot random trajectories from the validation dataset. The function ```get_trajectory_from_datapoint``` finds which trajectory contains the prediction point, and also returns the index to all points on the trajectory included in the feature dataset."
   ]
  },
  {
   "cell_type": "code",
   "execution_count": null,
   "metadata": {},
   "outputs": [],
   "source": [
    "N = 100  # Number of trajectories\n",
    "_, ax = plt.subplots(num=30, clear=True, figsize=(10, 10))\n",
    "plot_road()\n",
    "for idx in rg.choice(val_index, N):\n",
    "    trajectory, _ = get_trajectory_from_datapoint(idx, info, trajectories)\n",
    "    ax.plot(trajectory.Local_X, trajectory.Local_Y, color=colors[trajectory.Lane_ID.iloc[0]], lw=0.5)\n",
    "ax.set_xlabel('x [m]')\n",
    "ax.set_ylabel('y [m]')\n",
    "despine()"
   ]
  },
  {
   "cell_type": "markdown",
   "metadata": {},
   "source": [
    "Select a point by random from the validation dataset, find the corresponding trajectory, and make predictions along the trajectory."
   ]
  },
  {
   "cell_type": "code",
   "execution_count": null,
   "metadata": {},
   "outputs": [],
   "source": [
    "val_i = rg.choice(val_index)\n",
    "trajectory, data_points = get_trajectory_from_datapoint(val_i, info, trajectories)\n",
    "\n",
    "x_norm = (x[data_points] - mu) / std\n",
    "pred = model(x_norm).data.numpy()\n",
    "\n",
    "_, ax = plt.subplots(num=40, clear=True, figsize=(10, 10))\n",
    "plot_road()\n",
    "ax.plot(trajectory.Local_X, trajectory.Local_Y)\n",
    "for ti, lane_change_prediction in zip(info[data_points][:, 1], pred):\n",
    "    pos_prediction = (trajectory.Local_X.iloc[ti], trajectory.Local_Y.iloc[ti])\n",
    "    plot_prediction(pos_prediction, lane_change_prediction, lane_bounds)\n",
    "    ax.plot(trajectory.Local_X.iloc[ti], trajectory.Local_Y.iloc[ti], 'ro')\n",
    "\n",
    "ax.set_xlabel('x [m]')\n",
    "ax.set_ylabel('y [m]')\n",
    "despine()"
   ]
  },
  {
   "cell_type": "code",
   "execution_count": null,
   "metadata": {},
   "outputs": [],
   "source": []
  }
 ],
 "metadata": {
  "kernelspec": {
   "display_name": "Python 3.10.1 ('310')",
   "language": "python",
   "name": "python3"
  },
  "language_info": {
   "codemirror_mode": {
    "name": "ipython",
    "version": 3
   },
   "file_extension": ".py",
   "mimetype": "text/x-python",
   "name": "python",
   "nbconvert_exporter": "python",
   "pygments_lexer": "ipython3",
   "version": "3.11.0"
  },
  "vscode": {
   "interpreter": {
    "hash": "cf22cb89344b7c3be3de7389786a9efc2250a6b4ca0a058c6a17df492c55ad09"
   }
  }
 },
 "nbformat": 4,
 "nbformat_minor": 4
}
