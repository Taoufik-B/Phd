{
 "cells": [
  {
   "cell_type": "code",
   "execution_count": null,
   "metadata": {},
   "outputs": [],
   "source": [
    "import numpy as np\n",
    "import matplotlib.pyplot as plt\n",
    "from vehiclecontrol import ControllerBase, SingleTrackModel\n",
    "from splinepath import SplinePath\n",
    "from seaborn import despine"
   ]
  },
  {
   "cell_type": "code",
   "execution_count": null,
   "metadata": {},
   "outputs": [],
   "source": [
    "# Run if you want plots in external windows\n",
    "# %matplotlib  "
   ]
  },
  {
   "cell_type": "markdown",
   "metadata": {},
   "source": [
    "# Generate a path"
   ]
  },
  {
   "cell_type": "code",
   "execution_count": null,
   "metadata": {},
   "outputs": [],
   "source": [
    "class MiniController(ControllerBase):\n",
    "    def __init__(self):\n",
    "        super().__init__()\n",
    "    \n",
    "    def u(self, t, w):\n",
    "        a = 0.0\n",
    "        if t < 10:\n",
    "            u = [np.pi / 180 * 10, a]\n",
    "        elif t >= 10 and t < 20:\n",
    "            u = [-np.pi / 180 * 11, a]\n",
    "        elif t >= 20 and t < 23:\n",
    "            u = [-np.pi / 180 * 0, a]\n",
    "        elif t >= 23 and t < 40:\n",
    "            u = [-np.pi / 180 * 15, a]\n",
    "        else:\n",
    "            u = [-np.pi / 180 * 0, a]\n",
    "        return u\n",
    "\n",
    "opts = {'L': 2, \n",
    "        'amax': np.inf,\n",
    "        'amin': -np.inf,\n",
    "        'deltamax': np.pi / 3,\n",
    "        'deltamin': -np.pi / 3}\n",
    "\n",
    "car = SingleTrackModel().set_attributes(opts)\n",
    "car.Ts = 0.1\n",
    "car.controller = MiniController()\n",
    "w0 = np.array([0, 0, 0, 2])\n",
    "z0 = car.simulate(w0, T=40, dt=0.1, t0=0.0)\n",
    "t, w, u = z0\n",
    "M = 10\n",
    "p = w[::M, 0:2]"
   ]
  },
  {
   "cell_type": "code",
   "execution_count": null,
   "metadata": {},
   "outputs": [],
   "source": [
    "_, ax = plt.subplots(num=10, clear=True)\n",
    "ax.plot(p[:, 0], p[:, 1], 'rx')\n",
    "despine(ax=ax)"
   ]
  },
  {
   "cell_type": "markdown",
   "metadata": {},
   "source": [
    "# Plot path and properties"
   ]
  },
  {
   "cell_type": "code",
   "execution_count": null,
   "metadata": {},
   "outputs": [],
   "source": [
    "pl = SplinePath(p)\n",
    "print(f'Path length: {pl.length:.2f} m')"
   ]
  },
  {
   "cell_type": "markdown",
   "metadata": {},
   "source": [
    "With the SplinePath object, you can treat the path as a continuous function"
   ]
  },
  {
   "cell_type": "code",
   "execution_count": null,
   "metadata": {},
   "outputs": [],
   "source": [
    "s = np.linspace(0, pl.length, 100)\n",
    "_, ax = plt.subplots(num=20, clear=True)\n",
    "ax.plot(pl.x(s), pl.y(s), 'b')\n",
    "despine()"
   ]
  },
  {
   "cell_type": "markdown",
   "metadata": {},
   "source": [
    "Plot curvature"
   ]
  },
  {
   "cell_type": "code",
   "execution_count": null,
   "metadata": {},
   "outputs": [],
   "source": [
    "_, ax = plt.subplots(num=21, clear=True)\n",
    "ax.plot(s, pl.c(s), 'b')\n",
    "despine()"
   ]
  },
  {
   "cell_type": "code",
   "execution_count": null,
   "metadata": {},
   "outputs": [],
   "source": [
    "s0 = 10\n",
    "tangent, normal = pl.heading(s0)\n",
    "print(f'Tangent: {tangent}')\n",
    "print(f'Normal: {normal}')"
   ]
  },
  {
   "cell_type": "code",
   "execution_count": null,
   "metadata": {},
   "outputs": [],
   "source": [
    "L = 5  # Arrow length\n",
    "_, ax = plt.subplots(num=21, clear=True)\n",
    "ax.plot(pl.x(s), pl.y(s), 'b')\n",
    "ax.plot(pl.x(s0), pl.y(s0), 'ro')\n",
    "ax.arrow(pl.x(s0), pl.y(s0), L*tangent[0], L*tangent[1], width=0.15)\n",
    "ax.arrow(pl.x(s0), pl.y(s0), L*normal[0], L*normal[1], width=0.15)\n",
    "despine()"
   ]
  },
  {
   "cell_type": "markdown",
   "metadata": {},
   "source": [
    "# Projection"
   ]
  },
  {
   "cell_type": "markdown",
   "metadata": {},
   "source": [
    "Plot the path and a possible current position of the vehicle"
   ]
  },
  {
   "cell_type": "code",
   "execution_count": null,
   "metadata": {},
   "outputs": [],
   "source": [
    "p0 = [17, 15]\n",
    "_, ax = plt.subplots(num=22, clear=True)\n",
    "ax.plot(pl.x(s), pl.y(s), 'b')\n",
    "ax.plot(p0[0], p0[1], 'ko')\n",
    "despine()"
   ]
  },
  {
   "cell_type": "markdown",
   "metadata": {},
   "source": [
    "Project onto the path at around s=50"
   ]
  },
  {
   "cell_type": "code",
   "execution_count": null,
   "metadata": {},
   "outputs": [],
   "source": [
    "s_proj, d = pl.project(p0, 50)\n",
    "print(\"s: \", s_proj)\n",
    "print(\"d: \", d)\n",
    "print(f\"Projection point at {s_proj:.3f} m, position {pl.p(s_proj)}, {d} m from point {p0}.\")"
   ]
  },
  {
   "cell_type": "markdown",
   "metadata": {},
   "source": [
    "Visualize the projection. Experiment with different starting points."
   ]
  },
  {
   "cell_type": "code",
   "execution_count": null,
   "metadata": {},
   "outputs": [],
   "source": [
    "p0 = [17, 15]\n",
    "# s_proj, d = pl.project(p0, 70)\n",
    "s_proj, d = pl.project(p0, 20)\n",
    "\n",
    "_, ax = plt.subplots(num=10, clear=True)\n",
    "ax.plot(pl.x(s), pl.y(s), 'b')\n",
    "ax.plot(p0[0], p0[1], 'ko')\n",
    "ax.plot(pl.x(s_proj), pl.y(s_proj), 'ro')\n",
    "ax.plot([p0[0], pl.x(s_proj)], [p0[1], pl.y(s_proj)], 'k--')\n",
    "ax.set_title(f\"Projection point {d:.2f} m from path\")\n",
    "despine()"
   ]
  }
 ],
 "metadata": {
  "kernelspec": {
   "display_name": "Python 3 (ipykernel)",
   "language": "python",
   "name": "python3"
  },
  "language_info": {
   "codemirror_mode": {
    "name": "ipython",
    "version": 3
   },
   "file_extension": ".py",
   "mimetype": "text/x-python",
   "name": "python",
   "nbconvert_exporter": "python",
   "pygments_lexer": "ipython3",
   "version": "3.11.0"
  }
 },
 "nbformat": 4,
 "nbformat_minor": 4
}
