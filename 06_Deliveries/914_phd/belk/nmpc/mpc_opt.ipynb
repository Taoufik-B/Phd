{
 "cells": [
  {
   "cell_type": "code",
   "execution_count": 45,
   "metadata": {},
   "outputs": [
    {
     "data": {
      "text/plain": [
       "Function(f:(x[4],u[2])->(ode[4]) MXFunction)"
      ]
     },
     "execution_count": 45,
     "metadata": {},
     "output_type": "execute_result"
    }
   ],
   "source": [
    "from casadi import *\n",
    "\n",
    "L = 3\n",
    "T = 10 # Time horizon\n",
    "N = 20 # Number of control intervals\n",
    "dt = T/N\n",
    "\n",
    "#states\n",
    "\n",
    "xv = MX.sym('xv')\n",
    "yv = MX.sym('yv')\n",
    "psi = MX.sym('psi')\n",
    "delta = MX.sym('delta')\n",
    "\n",
    "x = vertcat(xv, yv, psi, delta)\n",
    "n_x = x.numel()\n",
    "\n",
    "#controls\n",
    "v    = MX.sym('v')   \n",
    "phi  = MX.sym('phi')\n",
    "u = vertcat(v, phi)\n",
    "n_u = u.numel\n",
    "\n",
    "#  bicyclemodel system dynamics fac  (nonlinear ODE)\n",
    "ode = vertcat( v*cos(psi)\n",
    "              ,v*sin(psi)\n",
    "              ,v*tan(delta)/L\n",
    "              ,phi\n",
    "              )\n",
    "\n",
    "f = Function('f',[x,u],[ode],['x','u'],['ode'])\n",
    "f"
   ]
  },
  {
   "cell_type": "code",
   "execution_count": 46,
   "metadata": {},
   "outputs": [
    {
     "ename": "NotImplementedError",
     "evalue": "Wrong number or type of arguments for overloaded function 'integrator'.\n  Possible prototypes are:\n    integrator(str,str,dict:SX,dict)\n    integrator(str,str,dict:MX,dict)\n    integrator(str,str,Function,dict)\n    integrator(str,str,dict:SX,float,[float],dict)\n    integrator(str,str,dict:SX,float,float,dict)\n    integrator(str,str,dict:MX,float,[float],dict)\n    integrator(str,str,dict:MX,float,float,dict)\n    integrator(str,str,Function,float,[float],dict)\n    integrator(str,str,Function,float,float,dict)\n  You have: '(str,str,str:str|MX,str:bool|float|int)'\n",
     "output_type": "error",
     "traceback": [
      "\u001b[0;31m---------------------------------------------------------------------------\u001b[0m",
      "\u001b[0;31mNotImplementedError\u001b[0m                       Traceback (most recent call last)",
      "\u001b[0;32m/tmp/ipykernel_120091/892624452.py\u001b[0m in \u001b[0;36m?\u001b[0;34m()\u001b[0m\n\u001b[1;32m     10\u001b[0m \u001b[0mdae\u001b[0m\u001b[0;34m[\u001b[0m\u001b[0;34m'x'\u001b[0m\u001b[0;34m]\u001b[0m \u001b[0;34m=\u001b[0m \u001b[0mx\u001b[0m\u001b[0;34m;\u001b[0m         \u001b[0;31m# What are states?\u001b[0m\u001b[0;34m\u001b[0m\u001b[0;34m\u001b[0m\u001b[0m\n\u001b[1;32m     11\u001b[0m \u001b[0mdae\u001b[0m\u001b[0;34m[\u001b[0m\u001b[0;34m'u'\u001b[0m\u001b[0;34m]\u001b[0m \u001b[0;34m=\u001b[0m \u001b[0mu\u001b[0m\u001b[0;34m;\u001b[0m         \u001b[0;31m# What are parameters (=fixed during the integration horizon)?\u001b[0m\u001b[0;34m\u001b[0m\u001b[0;34m\u001b[0m\u001b[0m\n\u001b[1;32m     12\u001b[0m \u001b[0mdae\u001b[0m\u001b[0;34m[\u001b[0m\u001b[0;34m'ode'\u001b[0m\u001b[0;34m]\u001b[0m \u001b[0;34m=\u001b[0m \u001b[0mf\u001b[0m\u001b[0;34m(\u001b[0m\u001b[0mx\u001b[0m\u001b[0;34m,\u001b[0m\u001b[0mu\u001b[0m\u001b[0;34m)\u001b[0m\u001b[0;34m;\u001b[0m  \u001b[0;31m# Expression for the right-hand side\u001b[0m\u001b[0;34m\u001b[0m\u001b[0;34m\u001b[0m\u001b[0m\n\u001b[1;32m     13\u001b[0m \u001b[0;34m\u001b[0m\u001b[0m\n\u001b[0;32m---> 14\u001b[0;31m \u001b[0mdae_int\u001b[0m \u001b[0;34m=\u001b[0m \u001b[0mintegrator\u001b[0m\u001b[0;34m(\u001b[0m\u001b[0;34m'intg'\u001b[0m\u001b[0;34m,\u001b[0m\u001b[0;34m'rk'\u001b[0m\u001b[0;34m,\u001b[0m\u001b[0mdae\u001b[0m\u001b[0;34m,\u001b[0m\u001b[0mintg_options\u001b[0m\u001b[0;34m)\u001b[0m\u001b[0;34m\u001b[0m\u001b[0;34m\u001b[0m\u001b[0m\n\u001b[0m",
      "\u001b[0;32m~/anaconda3/envs/py311/lib/python3.11/site-packages/casadi/casadi.py\u001b[0m in \u001b[0;36m?\u001b[0;34m(*args)\u001b[0m\n\u001b[1;32m  25192\u001b[0m \u001b[0;34m\u001b[0m\u001b[0m\n\u001b[1;32m  25193\u001b[0m \u001b[0;34m\u001b[0m\u001b[0m\n\u001b[1;32m  25194\u001b[0m \u001b[0;34m\u001b[0m\u001b[0m\n\u001b[1;32m  25195\u001b[0m     \"\"\"\n\u001b[0;32m> 25196\u001b[0;31m     \u001b[0;32mreturn\u001b[0m \u001b[0m_casadi\u001b[0m\u001b[0;34m.\u001b[0m\u001b[0mintegrator\u001b[0m\u001b[0;34m(\u001b[0m\u001b[0;34m*\u001b[0m\u001b[0margs\u001b[0m\u001b[0;34m)\u001b[0m\u001b[0;34m\u001b[0m\u001b[0;34m\u001b[0m\u001b[0m\n\u001b[0m",
      "\u001b[0;31mNotImplementedError\u001b[0m: Wrong number or type of arguments for overloaded function 'integrator'.\n  Possible prototypes are:\n    integrator(str,str,dict:SX,dict)\n    integrator(str,str,dict:MX,dict)\n    integrator(str,str,Function,dict)\n    integrator(str,str,dict:SX,float,[float],dict)\n    integrator(str,str,dict:SX,float,float,dict)\n    integrator(str,str,dict:MX,float,[float],dict)\n    integrator(str,str,dict:MX,float,float,dict)\n    integrator(str,str,Function,float,[float],dict)\n    integrator(str,str,Function,float,float,dict)\n  You have: '(str,str,str:str|MX,str:bool|float|int)'\n"
     ]
    }
   ],
   "source": [
    "# Integrator to discretize the system\n",
    "intg_options = {};\n",
    "intg_options['tf'] = T/N;\n",
    "intg_options['simplify'] = True;\n",
    "intg_options['number_of_finite_elements'] = 4;\n",
    "\n",
    "# DAE problem structure\n",
    "dae = {};\n",
    "dae['name'] = 'fac'\n",
    "dae['x'] = x;         # What are states?\n",
    "dae['u'] = u;         # What are parameters (=fixed during the integration horizon)?\n",
    "dae['ode'] = f(x,u);  # Expression for the right-hand side\n",
    "\n",
    "dae_int = integrator('intg','rk',dae,intg_options)"
   ]
  },
  {
   "cell_type": "code",
   "execution_count": null,
   "metadata": {},
   "outputs": [],
   "source": [
    "res = dae_int(x0=x, u=u)\n",
    "x_next = res['xf']\n",
    "F = Function('F',[x,u],[x_next],['x','u'],['x_next'])"
   ]
  },
  {
   "cell_type": "code",
   "execution_count": null,
   "metadata": {},
   "outputs": [
    {
     "data": {
      "text/plain": [
       "Function(mapaccum_F:(x[4],u[2x20])->(x_next[4x20]) MXFunction)"
      ]
     },
     "execution_count": 33,
     "metadata": {},
     "output_type": "execute_result"
    }
   ],
   "source": [
    "sim = F.mapaccum(N)\n",
    "sim"
   ]
  },
  {
   "cell_type": "code",
   "execution_count": null,
   "metadata": {},
   "outputs": [],
   "source": [
    "test = DaeBuilder('namex')\n"
   ]
  },
  {
   "cell_type": "code",
   "execution_count": null,
   "metadata": {},
   "outputs": [
    {
     "ename": "TypeError",
     "evalue": "'DaeBuilder' object is not subscriptable",
     "output_type": "error",
     "traceback": [
      "\u001b[0;31m---------------------------------------------------------------------------\u001b[0m",
      "\u001b[0;31mTypeError\u001b[0m                                 Traceback (most recent call last)",
      "Cell \u001b[0;32mIn[44], line 1\u001b[0m\n\u001b[0;32m----> 1\u001b[0m \u001b[43mtest\u001b[49m\u001b[43m[\u001b[49m\u001b[38;5;124;43m'\u001b[39;49m\u001b[38;5;124;43mname\u001b[39;49m\u001b[38;5;124;43m'\u001b[39;49m\u001b[43m]\u001b[49m\n",
      "\u001b[0;31mTypeError\u001b[0m: 'DaeBuilder' object is not subscriptable"
     ]
    }
   ],
   "source": [
    "test['name']"
   ]
  }
 ],
 "metadata": {
  "kernelspec": {
   "display_name": "py311",
   "language": "python",
   "name": "python3"
  },
  "language_info": {
   "codemirror_mode": {
    "name": "ipython",
    "version": 3
   },
   "file_extension": ".py",
   "mimetype": "text/x-python",
   "name": "python",
   "nbconvert_exporter": "python",
   "pygments_lexer": "ipython3",
   "version": "3.11.5"
  }
 },
 "nbformat": 4,
 "nbformat_minor": 2
}
